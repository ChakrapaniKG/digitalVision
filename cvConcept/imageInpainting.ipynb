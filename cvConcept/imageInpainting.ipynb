{
 "cells": [
  {
   "cell_type": "code",
   "execution_count": 1,
   "id": "f69b1b02-fce9-4975-a61e-318111636fe5",
   "metadata": {},
   "outputs": [],
   "source": [
    "import cv2\n",
    "import numpy as np\n",
    "import matplotlib.pyplot as plt\n",
    "import time"
   ]
  },
  {
   "cell_type": "code",
   "execution_count": 2,
   "id": "bf3c9726-606f-4d53-aa23-028942ea5065",
   "metadata": {},
   "outputs": [],
   "source": [
    "# class Sketcher:\n",
    "#     \"\"\"OpenCV Utility class for mouse handling.\"\"\"\n",
    "\n",
    "#     def __init__(self, windowname, dests, colors_func):\n",
    "#         self.prev_pt = None\n",
    "#         self.windowname = windowname\n",
    "#         self.dests = dests\n",
    "#         self.colors_func = colors_func\n",
    "#         self.dirty = False\n",
    "#         self.show()\n",
    "#         cv2.setMouseCallback(self.windowname, self.on_mouse)\n",
    "\n",
    "#     def show(self):\n",
    "#         cv2.imshow(self.windowname, self.dests[0])\n",
    "#         cv2.imshow(self.windowname + \": mask\", self.dests[1])\n",
    "\n",
    "#     def on_mouse(self, event, x, y, flags, param):\n",
    "#         \"\"\"Hanles mouse movement and events.\"\"\"\n",
    "#         pt = (x, y)\n",
    "#         if event == cv2.EVENT_LBUTTONDOWN:\n",
    "#             self.prev_pt = pt\n",
    "#         elif event == cv2.EVENT_LBUTTONUP:\n",
    "#             self.prev_pt = None\n",
    "\n",
    "#         if self.prev_pt and flags & cv2.EVENT_FLAG_LBUTTON:\n",
    "#             for dst, color in zip(self.dests, self.colors_func()):\n",
    "#                 cv2.line(dst, self.prev_pt, pt, color, 5)\n",
    "#             self.dirty = True\n",
    "#             self.prev_pt = pt\n",
    "#             self.show()"
   ]
  },
  {
   "cell_type": "code",
   "execution_count": 3,
   "id": "b67ada6d-d34f-4678-8781-453c7dd67dfd",
   "metadata": {},
   "outputs": [],
   "source": [
    "class Sketcher:\n",
    "    '''OpenCv Utility for Mouse Handling '''\n",
    "    def __init__(self, windowname, dests, colors_func):\n",
    "        self.prev_pt = None\n",
    "        self.windowname = windowname\n",
    "        self.dests = dests\n",
    "        self.colors_func = colors_func\n",
    "        self.dirty = False\n",
    "        self.show()\n",
    "        cv2.setMouseCallback(self.windowname,self.on_mouse)\n",
    "\n",
    "    def show(self):\n",
    "        cv2.imshow(self.windowname, self.dests[0])\n",
    "        cv2.imshow(self.windowname + \": mask\", self.dests[1])\n",
    "\n",
    "    def on_mouse(self,event, x, y, flags, param):\n",
    "        ''' Handles mouse movement and events '''\n",
    "        pt = (x, y)\n",
    "        if event == cv2.EVENT_LBUTTONDOWN:\n",
    "            self.prev_pt = pt\n",
    "        elif event == cv2.EVENT_LBUTTONUP:\n",
    "            self.prev_pt = None\n",
    "\n",
    "        if self.prev_pt and flags & cv2.EVENT_FLAG_LBUTTON:\n",
    "            for dst, color in zip(self.dests, self.colors_func()):\n",
    "                cv2.line(dst,self.prev_pt,pt,color,5)\n",
    "            self.dirty = True\n",
    "            self.prev_pt = pt\n",
    "            self.show()     "
   ]
  },
  {
   "cell_type": "code",
   "execution_count": 4,
   "id": "e9b7dbab-dddd-40d0-b187-0a96125e4706",
   "metadata": {},
   "outputs": [],
   "source": [
    "filename = '../Images/Car.jpg'\n",
    "img = cv2.imread(filename, cv2.IMREAD_COLOR)\n",
    "\n",
    "if img is None:\n",
    "    print(\"Failed to load image file {}\".format(filename))\n",
    "                "
   ]
  },
  {
   "cell_type": "code",
   "execution_count": 5,
   "id": "443158ba-919e-429b-ada2-b6ea8f020d8b",
   "metadata": {},
   "outputs": [],
   "source": [
    "#Creating Mask\n",
    "img_mask = img.copy()\n",
    "inpaintMask = np.zeros(img_mask.shape[:2],np.uint8)\n",
    "sketch = Sketcher('image',[img_mask,inpaintMask],lambda : ((0,255,0),255))"
   ]
  },
  {
   "cell_type": "code",
   "execution_count": 6,
   "id": "83cc272e-6401-4a1b-b1d6-ca9ac97c48a6",
   "metadata": {},
   "outputs": [],
   "source": [
    "while True:\n",
    "    ch = cv2.waitKey()\n",
    "    if ch == 27:\n",
    "        break\n",
    "    if ch == ord('t'):\n",
    "        t1t = time.time()\n",
    "        res = cv2.inpaint(src = img_mask,inpaintMask = inpaintMask, inpaintRadius = 3, flags = cv2.INPAINT_TELEA)\n",
    "        t2t = time.time()\n",
    "        ttime = t2t - t1t\n",
    "        cv2.imshow('InPaint output using FMM', res)\n",
    "    if ch == ord('n'):\n",
    "        t1n = time.time()\n",
    "        res = cv2.inpaint(src = img_mask,inpaintMask = inpaintMask, inpaintRadius = 3, flags = cv2.INPAINT_NS)\n",
    "        t2n = time.time()\n",
    "        ntime = t2n = t1n\n",
    "        cv2.imshow('InPaint output using NS Technique', res)\n",
    "\n",
    "    if ch == ord('r'):\n",
    "        img_mask[:] = img\n",
    "        inpaintMask[:] = 0\n",
    "        sketch.show()\n",
    "        \n",
    "    "
   ]
  },
  {
   "cell_type": "code",
   "execution_count": 7,
   "id": "a137e26d-fb12-4044-8eda-72c00d8401b1",
   "metadata": {},
   "outputs": [],
   "source": [
    "cv2.destroyAllWindows()"
   ]
  },
  {
   "cell_type": "code",
   "execution_count": 8,
   "id": "e2b95535-a00b-4c18-adff-6ee8415333b8",
   "metadata": {},
   "outputs": [
    {
     "data": {
      "image/png": "[encoded data removed]",
      "text/plain": [
       "<Figure size 1000x1000 with 1 Axes>"
      ]
     },
     "metadata": {},
     "output_type": "display_data"
    }
   ],
   "source": [
    "times = [ttime , ntime]\n",
    "methods = ['INPAINT_TELEA','INPAINT_NS']\n",
    "\n",
    "fig = plt.figure(figsize = (10,10))\n",
    "\n",
    "plt.bar(methods,times, color = 'blue', width = 0.3)\n",
    "\n",
    "plt.xlabel('Algorithms')\n",
    "plt.ylabel('Runtime')\n",
    "plt.title('Runtime Comparision')\n",
    "plt.show()"
   ]
  },
  {
   "cell_type": "code",
   "execution_count": null,
   "id": "11927008-15e5-42ec-8725-c4a5081aa08f",
   "metadata": {},
   "outputs": [],
   "source": []
  }
 ],
 "metadata": {
  "kernelspec": {
   "display_name": "Python 3 (ipykernel)",
   "language": "python",
   "name": "python3"
  },
  "language_info": {
   "codemirror_mode": {
    "name": "ipython",
    "version": 3
   },
   "file_extension": ".py",
   "mimetype": "text/x-python",
   "name": "python",
   "nbconvert_exporter": "python",
   "pygments_lexer": "ipython3",
   "version": "3.11.13"
  }
 },
 "nbformat": 4,
 "nbformat_minor": 5
}
