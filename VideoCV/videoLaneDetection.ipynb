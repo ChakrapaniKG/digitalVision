{
 "cells": [
  {
   "cell_type": "code",
   "execution_count": 1,
   "id": "b22651d2-ac29-476d-8821-5b23e0794225",
   "metadata": {},
   "outputs": [],
   "source": [
    "import cv2\n",
    "import numpy as np"
   ]
  },
  {
   "cell_type": "code",
   "execution_count": 6,
   "id": "e33c5aeb-e915-48bb-9246-00074f3cbd22",
   "metadata": {},
   "outputs": [
    {
     "name": "stdout",
     "output_type": "stream",
     "text": [
      "Name: moviepy\n",
      "Version: 2.1.2\n",
      "Summary: Video editing with Python\n",
      "Home-page: \n",
      "Author: Zulko 2024\n",
      "Author-email: \n",
      "License: MIT License\n",
      "Location: C:\\Users\\dell\\miniconda3\\envs\\opencv-env\\Lib\\site-packages\n",
      "Requires: decorator, imageio, imageio_ffmpeg, numpy, pillow, proglog, python-dotenv\n",
      "Required-by: \n",
      "Note: you may need to restart the kernel to use updated packages.\n"
     ]
    }
   ],
   "source": [
    "pip show moviepy"
   ]
  },
  {
   "cell_type": "code",
   "execution_count": 10,
   "id": "93c17977-5327-432c-8967-a4cc286567f7",
   "metadata": {},
   "outputs": [],
   "source": [
    "# from moviepy.video.io.VideoFileClip import VideoFileClip\n",
    "# clip = VideoFileClip('../lane1-straight.mp4')\n",
    "# clip.ipython_display(width='800') # This piece of code is deprecated"
   ]
  },
  {
   "cell_type": "code",
   "execution_count": 9,
   "id": "5021f9b2-68b9-440e-bfd7-3faf9490a59e",
   "metadata": {},
   "outputs": [
    {
     "data": {
      "text/html": [
       "<video src=\"../lane1-straight.mp4\" controls  width=\"600\" >\n",
       "      Your browser does not support the <code>video</code> element.\n",
       "    </video>"
      ],
      "text/plain": [
       "<IPython.core.display.Video object>"
      ]
     },
     "execution_count": 9,
     "metadata": {},
     "output_type": "execute_result"
    }
   ],
   "source": [
    "from IPython.display import Video\n",
    "Video('../lane1-straight.mp4',width=600)"
   ]
  },
  {
   "cell_type": "code",
   "execution_count": 66,
   "id": "0561309f-ea90-48f0-b459-9a14fa50161e",
   "metadata": {},
   "outputs": [],
   "source": [
    "def region_of_interest(img,vertices):\n",
    "    ''' Select Region of interest from the specified Vertices '''\n",
    "    mask = np.zeros_like(img)\n",
    "    if len(img.shape) > 2:\n",
    "        channel_count = img.shape[2]\n",
    "        ignore_mask_color = (255,) * channel_count\n",
    "    else:\n",
    "        ignore_mask_color = 255\n",
    "    cv2.fillPoly(mask, vertices,ignore_mask_color)\n",
    "    masked_image = cv2.bitwise_and(img,mask)\n",
    "    return masked_image\n",
    "\n",
    "def draw_lines(img, lines, color = [255,0,0], thickness = 2):\n",
    "    ''' For Drawing Lines '''\n",
    "    if lines is not None:\n",
    "        for line in lines:\n",
    "            for x1,y1,x2,y2 in line:\n",
    "                cv2.line(img,(x1,y1),(x2,y2),color,thickness)\n",
    "\n",
    "def hough_lines(img, rho, theta, threshold, min_line_len, max_line_gap):\n",
    "    \"\"\"Utility for defining Line Segments.\"\"\"\n",
    "    lines = cv2.HoughLinesP(\n",
    "        img, rho, theta, threshold, np.array([]),\n",
    "        minLineLength = min_line_len, maxLineGap = max_line_gap)\n",
    "    line_img = np.zeros((img.shape[0], img.shape[1], 3), dtype = np.uint8)\n",
    "    draw_lines(line_img, lines)\n",
    "    return line_img, lines\n",
    "\n",
    "def separate_left_right_lines(lines):\n",
    "    ''' Separate left and right lines depending on the slope '''\n",
    "    left_lines = []\n",
    "    right_lines = []\n",
    "    if lines is not None:\n",
    "        for line in lines:\n",
    "            for x1,y1,x2,y2 in line:\n",
    "                if y1 > y2:\n",
    "                    left_lines.append([x1,y1,x2,y2])\n",
    "                elif y1 < y2 :\n",
    "                    right_lines.append([x1,y1,x2,y2])\n",
    "    return left_lines, right_lines\n",
    "\n",
    "def cal_avg(values):\n",
    "    if not (type(values) == 'NoneType'):\n",
    "        if len(values) > 0:\n",
    "            n = len(values)\n",
    "        else:\n",
    "            n = 0\n",
    "        return sum(values) / n\n",
    "\n",
    "def extrapolate_lines(lines, upper_border, lower_border):\n",
    "    ''' Extrapolate lines keeping in the mind the lower and upper border intersections '''\n",
    "    slopes = []\n",
    "    consts = []\n",
    "\n",
    "    if (lines is not None) and (len(lines) != 0):\n",
    "        for x1,y1,x2,y2 in lines:\n",
    "            slope = (y2 - y1) / (x2 - x1)\n",
    "            slopes.append(slope)\n",
    "            c = y1 - slope * x1\n",
    "            consts.append(c)\n",
    "        avg_slope = cal_avg(slopes)\n",
    "        avg_consts = cal_avg(consts)\n",
    "\n",
    "        x_lane_lower_point = int((lower_border - avg_consts) / avg_slope)\n",
    "        x_lane_upper_point = int((upper_border - avg_consts) / avg_slope)\n",
    "\n",
    "        return [x_lane_lower_point, lower_border, x_lane_upper_point, upper_border]\n",
    "\n",
    "\n",
    "def extrapolated_lane_image(img,lines,roi_upper_border,roi_lower_border):\n",
    "    ''' Main function called to get the final lane lines '''\n",
    "    lanes_img = np.zeros((img.shape[0],img.shape[1],3),dtype = np.uint8)\n",
    "    lines_left, lines_right = separate_left_right_lines(lines)\n",
    "    lane_left = extrapolate_lines(lines_left, roi_upper_border, roi_lower_border)\n",
    "    lane_right = extrapolate_lines(lines_right, roi_upper_border, roi_lower_border)\n",
    "    if lane_left is not None and lane_right is not None:\n",
    "        draw_con(lanes_img, [[lane_left], [lane_right]])\n",
    "    return lanes_img\n",
    "\n",
    "\n",
    "def draw_con(img, lines):\n",
    "    \"\"\"Fill in lane area.\"\"\"\n",
    "    points = []\n",
    "    for x1,y1,x2,y2 in lines[0]:\n",
    "        points.append([x1,y1])\n",
    "        points.append([x2,y2])\n",
    "    for x1,y1,x2,y2 in lines[1]:\n",
    "        points.append([x2,y2])\n",
    "        points.append([x1,y1])\n",
    "\n",
    "    points = np.array([points], dtype = 'int32')        \n",
    "    cv2.fillPoly(img, points, (0,255,0))\n",
    "                                  "
   ]
  },
  {
   "cell_type": "code",
   "execution_count": 67,
   "id": "2a2f59b0-fb55-468d-917e-be686a62ac36",
   "metadata": {},
   "outputs": [],
   "source": [
    "def process_image(image):\n",
    "    #Convert the image into gray scale image\n",
    "    gray = cv2.cvtColor(image, cv2.COLOR_RGB2GRAY)\n",
    "\n",
    "    #Intensity Selection\n",
    "    gray_select = cv2.inRange(gray, 150, 255)\n",
    "\n",
    "    #Region masking: Select vertices according to the input image.\n",
    "    roi_vertices = np.array([[[100,540],[900,540],[525,330],[440,330]]])\n",
    "    gray_select_roi = region_of_interest(gray_select, roi_vertices)\n",
    "\n",
    "    #Canny Edge Detection\n",
    "    low_threshold = 50\n",
    "    high_threshold = 100\n",
    "    img_canny = cv2.Canny(gray_select_roi,low_threshold,high_threshold)\n",
    "\n",
    "    #Remove noise with Gaussian Blur\n",
    "    kernel_size = 5\n",
    "    canny_blur = cv2.GaussianBlur(img_canny,(kernel_size,kernel_size),0)\n",
    "\n",
    "    #Hough Transform\n",
    "    rho = 1\n",
    "    theta = np.pi / 180\n",
    "    threshold = 100\n",
    "    min_line_len = 50\n",
    "    max_line_gap = 300\n",
    "    hough, lines = hough_lines(canny_blur, rho, theta, threshold, min_line_len, max_line_gap)\n",
    "\n",
    "    #Extrapolate Lanes.\n",
    "    roi_upper_border = 330\n",
    "    roi_lower_border = 540\n",
    "    lane_img = extrapolated_lane_image(image, lines, roi_upper_border, roi_lower_border)\n",
    "\n",
    "    #Combines using weighted image\n",
    "    image_result = cv2.addWeighted(image, 1, lane_img, 0.4, 0.0)\n",
    "    return image_result\n",
    "   "
   ]
  },
  {
   "cell_type": "code",
   "execution_count": 70,
   "id": "3a626589-9476-4861-be36-eaab29bb05cb",
   "metadata": {},
   "outputs": [],
   "source": [
    "video_cap = cv2.VideoCapture('../lane1-straight.mp4')\n",
    "if not video_cap:\n",
    "    print('Error opening video stream or file')"
   ]
  },
  {
   "cell_type": "code",
   "execution_count": 71,
   "id": "97bb39ca-b53b-4c41-b6be-17407da94d5b",
   "metadata": {},
   "outputs": [],
   "source": [
    "frame_w = int(video_cap.get(cv2.CAP_PROP_FRAME_WIDTH))\n",
    "frame_h = int(video_cap.get(cv2.CAP_PROP_FRAME_HEIGHT))\n",
    "fps = int(video_cap.get(cv2.CAP_PROP_FPS))"
   ]
  },
  {
   "cell_type": "code",
   "execution_count": 72,
   "id": "52f3baa4-51cb-4106-abfd-4b49c8ac4cc2",
   "metadata": {},
   "outputs": [],
   "source": [
    "fourcc = cv2.VideoWriter_fourcc(*'avc1')\n",
    "file_out = 'lane1-straight-output.mp4'\n",
    "vide_out = cv2.VideoWriter(file_out,fourcc,fps, (frame_w,frame_h))"
   ]
  },
  {
   "cell_type": "code",
   "execution_count": 73,
   "id": "4b184eae-de5b-4265-bc41-06a3b1dd4abd",
   "metadata": {},
   "outputs": [
    {
     "name": "stdout",
     "output_type": "stream",
     "text": [
      "Begin processing Video.. Wait Untill it Finishes\n",
      "Finished processing Video\n"
     ]
    }
   ],
   "source": [
    "print('Begin processing Video.. Wait Untill it Finishes')\n",
    "while True:\n",
    "    ret, frame = video_cap.read()\n",
    "    if frame is None:\n",
    "        print('Finished processing Video')\n",
    "        break\n",
    "    result = process_image(frame)\n",
    "    vide_out.write(result)\n",
    "\n",
    "vide_out.release()"
   ]
  },
  {
   "cell_type": "code",
   "execution_count": 74,
   "id": "e229ef84-80f5-4b5d-b5be-3e8893e82e31",
   "metadata": {},
   "outputs": [
    {
     "data": {
      "text/html": [
       "<video src=\"lane1-straight-output.mp4\" controls  width=\"600\" >\n",
       "      Your browser does not support the <code>video</code> element.\n",
       "    </video>"
      ],
      "text/plain": [
       "<IPython.core.display.Video object>"
      ]
     },
     "execution_count": 74,
     "metadata": {},
     "output_type": "execute_result"
    }
   ],
   "source": [
    "from IPython.display import Video\n",
    "Video('lane1-straight-output.mp4',width=600)"
   ]
  },
  {
   "cell_type": "code",
   "execution_count": null,
   "id": "decb4634-e253-4e8f-9579-d1f8d9aeb3fc",
   "metadata": {},
   "outputs": [],
   "source": []
  }
 ],
 "metadata": {
  "kernelspec": {
   "display_name": "Python 3 (ipykernel)",
   "language": "python",
   "name": "python3"
  },
  "language_info": {
   "codemirror_mode": {
    "name": "ipython",
    "version": 3
   },
   "file_extension": ".py",
   "mimetype": "text/x-python",
   "name": "python",
   "nbconvert_exporter": "python",
   "pygments_lexer": "ipython3",
   "version": "3.11.13"
  }
 },
 "nbformat": 4,
 "nbformat_minor": 5
}
